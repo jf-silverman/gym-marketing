{
 "cells": [
  {
   "cell_type": "markdown",
   "id": "5ed0ca94-e3ab-4fab-a5a3-5eb0307b6c26",
   "metadata": {},
   "source": [
    "![gym](gym.png)\n"
   ]
  },
  {
   "cell_type": "markdown",
   "id": "7ee8ccb9-c762-4f35-9b79-ebd2ab1824b0",
   "metadata": {},
   "source": [
    "In this Data Camp project, I imagine being a product manager for a fitness studio interested in understanding the current demand for digital fitness classes. I plan to conduct a market analysis in Python to gauge demand and identify potential areas for growth of digital products and services.\n",
    "\n",
    "### The Data\n",
    "\n",
    "I used a provided dataset with a number of CSV files in the \"Files/data\" folder, which offer international and national-level data on Google Trends keyword searches related to fitness and related products. \n",
    "\n",
    "### workout.csv\n",
    "\n",
    "| Column     | Description              |\n",
    "|------------|--------------------------|\n",
    "| `'month'` | Month when the data was measured. |\n",
    "| `'workout_worldwide'` | Index representing the popularity of the keyword 'workout', on a scale of 0 to 100. |\n",
    "\n",
    "### three_keywords.csv\n",
    "\n",
    "| Column     | Description              |\n",
    "|------------|--------------------------|\n",
    "| `'month'` | Month when the data was measured. |\n",
    "| `'home_workout_worldwide'` | Index representing the popularity of the keyword 'home workout', on a scale of 0 to 100. |\n",
    "| `'gym_workout_worldwide'` | Index representing the popularity of the keyword 'gym workout', on a scale of 0 to 100. |\n",
    "| `'home_gym_worldwide'` | Index representing the popularity of the keyword 'home gym', on a scale of 0 to 100. |\n",
    "\n",
    "### workout_geo.csv\n",
    "\n",
    "| Column     | Description              |\n",
    "|------------|--------------------------|\n",
    "| `'country'` | Country where the data was measured. |\n",
    "| `'workout_2018_2023'` | Index representing the popularity of the keyword 'workout' during the 5 year period. |\n",
    "\n",
    "### three_keywords_geo.csv\n",
    "\n",
    "| Column     | Description              |\n",
    "|------------|--------------------------|\n",
    "| `'country'` | Country where the data was measured. |\n",
    "| `'home_workout_2018_2023'` | Index representing the popularity of the keyword 'home workout' during the 5 year period. |\n",
    "| `'gym_workout_2018_2023'` | Index representing the popularity of the keyword 'gym workout' during the 5 year period.  |\n",
    "| `'home_gym_2018_2023'` | Index representing the popularity of the keyword 'home gym' during the 5 year period. |"
   ]
  },
  {
   "cell_type": "code",
   "execution_count": 1,
   "id": "36e5d14e-3f2b-4123-97a3-d11880a7a047",
   "metadata": {
    "executionCancelledAt": null,
    "executionTime": 10,
    "lastExecutedAt": 1737845884515,
    "lastExecutedByKernel": "1de447ee-a596-462b-9b2d-412b9b192946",
    "lastScheduledRunId": null,
    "lastSuccessfullyExecutedCode": "# Import the necessary libraries\nimport pandas as pd\nimport matplotlib.pyplot as plt",
    "outputsMetadata": {
     "0": {
      "height": 321,
      "type": "dataFrame"
     }
    }
   },
   "outputs": [],
   "source": [
    "# Import the necessary libraries\n",
    "import pandas as pd\n",
    "import matplotlib.pyplot as plt"
   ]
  },
  {
   "cell_type": "markdown",
   "id": "9de98aea-b94a-409a-b558-e2debd1bfe87",
   "metadata": {},
   "source": [
    "The project asks when was the global search for 'workout' at its peak? Save the year of peak interest as a string named year_str in the format \"yyyy\"."
   ]
  },
  {
   "cell_type": "code",
   "execution_count": 2,
   "id": "c303a942-ddac-498d-981e-0b7755259f3f",
   "metadata": {
    "executionCancelledAt": null,
    "executionTime": 51,
    "lastExecutedAt": 1737845884566,
    "lastExecutedByKernel": "1de447ee-a596-462b-9b2d-412b9b192946",
    "lastScheduledRunId": null,
    "lastSuccessfullyExecutedCode": "# For question 1, I first read in workout.csv to dataframe\nworkout_df = pd.read_csv('./data/workout.csv')\nworkout_df.head(5)",
    "outputsMetadata": {
     "0": {
      "height": 50,
      "tableState": {
       "customFilter": {
        "const": {
         "type": "boolean",
         "valid": true,
         "value": true
        },
        "id": "10b191c6-e69b-447a-9339-d029d9b7d712",
        "nodeType": "const"
       },
       "quickFilterText": ""
      },
      "type": "dataFrame"
     }
    }
   },
   "outputs": [
    {
     "data": {
      "text/html": [
       "<div>\n",
       "<style scoped>\n",
       "    .dataframe tbody tr th:only-of-type {\n",
       "        vertical-align: middle;\n",
       "    }\n",
       "\n",
       "    .dataframe tbody tr th {\n",
       "        vertical-align: top;\n",
       "    }\n",
       "\n",
       "    .dataframe thead th {\n",
       "        text-align: right;\n",
       "    }\n",
       "</style>\n",
       "<table border=\"1\" class=\"dataframe\">\n",
       "  <thead>\n",
       "    <tr style=\"text-align: right;\">\n",
       "      <th></th>\n",
       "      <th>month</th>\n",
       "      <th>workout_worldwide</th>\n",
       "    </tr>\n",
       "  </thead>\n",
       "  <tbody>\n",
       "    <tr>\n",
       "      <th>0</th>\n",
       "      <td>2018-03</td>\n",
       "      <td>59</td>\n",
       "    </tr>\n",
       "    <tr>\n",
       "      <th>1</th>\n",
       "      <td>2018-04</td>\n",
       "      <td>61</td>\n",
       "    </tr>\n",
       "    <tr>\n",
       "      <th>2</th>\n",
       "      <td>2018-05</td>\n",
       "      <td>57</td>\n",
       "    </tr>\n",
       "    <tr>\n",
       "      <th>3</th>\n",
       "      <td>2018-06</td>\n",
       "      <td>56</td>\n",
       "    </tr>\n",
       "    <tr>\n",
       "      <th>4</th>\n",
       "      <td>2018-07</td>\n",
       "      <td>51</td>\n",
       "    </tr>\n",
       "  </tbody>\n",
       "</table>\n",
       "</div>"
      ],
      "text/plain": [
       "     month  workout_worldwide\n",
       "0  2018-03                 59\n",
       "1  2018-04                 61\n",
       "2  2018-05                 57\n",
       "3  2018-06                 56\n",
       "4  2018-07                 51"
      ]
     },
     "execution_count": 2,
     "metadata": {},
     "output_type": "execute_result"
    }
   ],
   "source": [
    "# I first read in workout.csv to dataframe\n",
    "workout_df = pd.read_csv('./data/workout.csv')\n",
    "workout_df.head(5)"
   ]
  },
  {
   "cell_type": "code",
   "execution_count": 3,
   "id": "ae403575-b68d-40ed-b6cc-67a7f8d913b6",
   "metadata": {
    "executionCancelledAt": null,
    "executionTime": 52,
    "lastExecutedAt": 1737845884618,
    "lastExecutedByKernel": "1de447ee-a596-462b-9b2d-412b9b192946",
    "lastScheduledRunId": null,
    "lastSuccessfullyExecutedCode": "# Continuing with question 1, I found the max score for keyword 'workout', then found what the value of the 'month' field was for that row.  Then saved the year part of the date as year_str.\nwkout_max = max(workout_df['workout_worldwide'])\nmonth_of_max = workout_df[workout_df['workout_worldwide'] == wkout_max]['month'].values[0]\nyear_str = month_of_max[:4]\nprint(year_str)",
    "outputsMetadata": {
     "0": {
      "height": 38,
      "type": "stream"
     }
    }
   },
   "outputs": [
    {
     "name": "stdout",
     "output_type": "stream",
     "text": [
      "2020\n"
     ]
    }
   ],
   "source": [
    "# I found the max score for keyword 'workout', then found what the value of the 'month' field was for that row.  Then saved the year part of the date as year_str.\n",
    "wkout_max = max(workout_df['workout_worldwide'])\n",
    "month_of_max = workout_df[workout_df['workout_worldwide'] == wkout_max]['month'].values[0]\n",
    "year_str = month_of_max[:4]\n",
    "print(year_str)"
   ]
  },
  {
   "cell_type": "markdown",
   "id": "20ee6707-edd1-4bae-932a-033af84c6d41",
   "metadata": {},
   "source": [
    "The project asks, of the keywords available, what was the most popular during the covid pandemic, and what is the most popular now? Save your answers as variables called peak_covid and current respectively."
   ]
  },
  {
   "cell_type": "code",
   "execution_count": 4,
   "id": "4a049627-df7b-448e-9d4c-56df563da743",
   "metadata": {
    "executionCancelledAt": null,
    "executionTime": 50,
    "lastExecutedAt": 1737845884668,
    "lastExecutedByKernel": "1de447ee-a596-462b-9b2d-412b9b192946",
    "lastScheduledRunId": null,
    "lastSuccessfullyExecutedCode": "# To answer question 2, I turn three_keywords.csv into a dataframe\nthree_kw_df = pd.read_csv('./data/three_keywords.csv')\nthree_kw_df.head(5)",
    "outputsMetadata": {
     "0": {
      "height": 50,
      "tableState": {
       "customFilter": {
        "const": {
         "type": "boolean",
         "valid": true,
         "value": true
        },
        "id": "10b191c6-e69b-447a-9339-d029d9b7d712",
        "nodeType": "const"
       },
       "quickFilterText": ""
      },
      "type": "dataFrame"
     }
    }
   },
   "outputs": [
    {
     "data": {
      "text/html": [
       "<div>\n",
       "<style scoped>\n",
       "    .dataframe tbody tr th:only-of-type {\n",
       "        vertical-align: middle;\n",
       "    }\n",
       "\n",
       "    .dataframe tbody tr th {\n",
       "        vertical-align: top;\n",
       "    }\n",
       "\n",
       "    .dataframe thead th {\n",
       "        text-align: right;\n",
       "    }\n",
       "</style>\n",
       "<table border=\"1\" class=\"dataframe\">\n",
       "  <thead>\n",
       "    <tr style=\"text-align: right;\">\n",
       "      <th></th>\n",
       "      <th>month</th>\n",
       "      <th>home_workout_worldwide</th>\n",
       "      <th>gym_workout_worldwide</th>\n",
       "      <th>home_gym_worldwide</th>\n",
       "    </tr>\n",
       "  </thead>\n",
       "  <tbody>\n",
       "    <tr>\n",
       "      <th>0</th>\n",
       "      <td>2018-03</td>\n",
       "      <td>12</td>\n",
       "      <td>16</td>\n",
       "      <td>10</td>\n",
       "    </tr>\n",
       "    <tr>\n",
       "      <th>1</th>\n",
       "      <td>2018-04</td>\n",
       "      <td>12</td>\n",
       "      <td>18</td>\n",
       "      <td>10</td>\n",
       "    </tr>\n",
       "    <tr>\n",
       "      <th>2</th>\n",
       "      <td>2018-05</td>\n",
       "      <td>13</td>\n",
       "      <td>16</td>\n",
       "      <td>9</td>\n",
       "    </tr>\n",
       "    <tr>\n",
       "      <th>3</th>\n",
       "      <td>2018-06</td>\n",
       "      <td>12</td>\n",
       "      <td>17</td>\n",
       "      <td>9</td>\n",
       "    </tr>\n",
       "    <tr>\n",
       "      <th>4</th>\n",
       "      <td>2018-07</td>\n",
       "      <td>12</td>\n",
       "      <td>17</td>\n",
       "      <td>9</td>\n",
       "    </tr>\n",
       "  </tbody>\n",
       "</table>\n",
       "</div>"
      ],
      "text/plain": [
       "     month  home_workout_worldwide  gym_workout_worldwide  home_gym_worldwide\n",
       "0  2018-03                      12                     16                  10\n",
       "1  2018-04                      12                     18                  10\n",
       "2  2018-05                      13                     16                   9\n",
       "3  2018-06                      12                     17                   9\n",
       "4  2018-07                      12                     17                   9"
      ]
     },
     "execution_count": 4,
     "metadata": {},
     "output_type": "execute_result"
    }
   ],
   "source": [
    "# To answer question 2, I turn three_keywords.csv into a dataframe\n",
    "three_kw_df = pd.read_csv('./data/three_keywords.csv')\n",
    "three_kw_df.head(5)"
   ]
  },
  {
   "cell_type": "code",
   "execution_count": 5,
   "id": "8ba71236-d688-4d4c-9a4c-f3ec1a83f105",
   "metadata": {
    "executionCancelledAt": null,
    "executionTime": 379,
    "lastExecutedAt": 1737845885047,
    "lastExecutedByKernel": "1de447ee-a596-462b-9b2d-412b9b192946",
    "lastScheduledRunId": null,
    "lastSuccessfullyExecutedCode": "# Convert 'month' column to datetime format for better plotting\nthree_kw_df['month'] = pd.to_datetime(three_kw_df['month'])\n\n# Plotting the data from three columns with 'month' on the x-axis\nplt.figure(figsize=(12, 6))\n\n# Plot each series\nplt.plot(three_kw_df['month'], three_kw_df['home_workout_worldwide'], label='Home Workout Worldwide')\nplt.plot(three_kw_df['month'], three_kw_df['gym_workout_worldwide'], label='Gym Workout Worldwide')\nplt.plot(three_kw_df['month'], three_kw_df['home_gym_worldwide'], label='Home Gym Worldwide')\n\n# Adding title and labels\nplt.title('Workout Trends Over Time')\nplt.xlabel('Month')\nplt.ylabel('Search Interest')\n\n# Rotate x-axis labels for better readability\nplt.xticks(rotation=45)\n\n# Adding legend\nplt.legend()\n\n# Display the plot\nplt.show()"
   },
   "outputs": [
    {
     "data": {
      "image/png": "[encoded data removed]",
      "text/plain": [
       "<Figure size 1200x600 with 1 Axes>"
      ]
     },
     "metadata": {},
     "output_type": "display_data"
    }
   ],
   "source": [
    "# Convert 'month' column to datetime format for better plotting\n",
    "three_kw_df['month'] = pd.to_datetime(three_kw_df['month'])\n",
    "\n",
    "# Plotting the data from three columns with 'month' on the x-axis\n",
    "plt.figure(figsize=(12, 6))\n",
    "\n",
    "# Plot each series\n",
    "plt.plot(three_kw_df['month'], three_kw_df['home_workout_worldwide'], label='Home Workout Worldwide')\n",
    "plt.plot(three_kw_df['month'], three_kw_df['gym_workout_worldwide'], label='Gym Workout Worldwide')\n",
    "plt.plot(three_kw_df['month'], three_kw_df['home_gym_worldwide'], label='Home Gym Worldwide')\n",
    "\n",
    "# Adding title and labels\n",
    "plt.title('Workout Trends Over Time')\n",
    "plt.xlabel('Month')\n",
    "plt.ylabel('Search Interest')\n",
    "\n",
    "# Rotate x-axis labels for better readability\n",
    "plt.xticks(rotation=45)\n",
    "\n",
    "# Adding legend\n",
    "plt.legend()\n",
    "\n",
    "# Display the plot\n",
    "plt.show()"
   ]
  },
  {
   "cell_type": "code",
   "execution_count": 6,
   "id": "573c911b-3bc8-416b-93e8-1fd4c4aef33c",
   "metadata": {
    "executionCancelledAt": null,
    "executionTime": 51,
    "lastExecutedAt": 1737845885098,
    "lastExecutedByKernel": "1de447ee-a596-462b-9b2d-412b9b192946",
    "lastScheduledRunId": null,
    "lastSuccessfullyExecutedCode": "peak_covid = \"Home Workout\"\ncurrent = \"Gym Workout\""
   },
   "outputs": [],
   "source": [
    "peak_covid = \"Home Workout\"\n",
    "current = \"Gym Workout\""
   ]
  },
  {
   "cell_type": "markdown",
   "id": "57c75852-dbde-40a7-8890-282438fd03d0",
   "metadata": {},
   "source": [
    "Using the line chart above, it's easy to see that the peak keyword for most of the covid pandemic was \"Home Workout Worldwide\" while \"Gym Workout Worldwide\" is currently most popular (2023)."
   ]
  },
  {
   "cell_type": "markdown",
   "id": "82a1e695-dc31-47c5-aceb-e5f35b468c29",
   "metadata": {},
   "source": [
    "The project asks, what country has the highest interest for workouts among the following: United States, Australia, or Japan? Save your answer as top_country."
   ]
  },
  {
   "cell_type": "code",
   "execution_count": 7,
   "id": "1cb8e61e-d3af-45d7-97bc-c8f94181ec1d",
   "metadata": {
    "executionCancelledAt": null,
    "executionTime": 48,
    "lastExecutedAt": 1737845885146,
    "lastExecutedByKernel": "1de447ee-a596-462b-9b2d-412b9b192946",
    "lastScheduledRunId": null,
    "lastSuccessfullyExecutedCode": "workout_geo_df = pd.read_csv(\"./data/workout_geo.csv\")\nworkout_geo_df.head(5)",
    "outputsMetadata": {
     "0": {
      "height": 50,
      "tableState": {
       "customFilter": {
        "const": {
         "type": "boolean",
         "valid": true,
         "value": true
        },
        "id": "3a62a749-cdbb-4964-b9d1-c7ad7b12b942",
        "nodeType": "const"
       },
       "quickFilterText": ""
      },
      "type": "dataFrame"
     }
    }
   },
   "outputs": [
    {
     "data": {
      "text/html": [
       "<div>\n",
       "<style scoped>\n",
       "    .dataframe tbody tr th:only-of-type {\n",
       "        vertical-align: middle;\n",
       "    }\n",
       "\n",
       "    .dataframe tbody tr th {\n",
       "        vertical-align: top;\n",
       "    }\n",
       "\n",
       "    .dataframe thead th {\n",
       "        text-align: right;\n",
       "    }\n",
       "</style>\n",
       "<table border=\"1\" class=\"dataframe\">\n",
       "  <thead>\n",
       "    <tr style=\"text-align: right;\">\n",
       "      <th></th>\n",
       "      <th>country</th>\n",
       "      <th>workout_2018_2023</th>\n",
       "    </tr>\n",
       "  </thead>\n",
       "  <tbody>\n",
       "    <tr>\n",
       "      <th>0</th>\n",
       "      <td>Guam</td>\n",
       "      <td>NaN</td>\n",
       "    </tr>\n",
       "    <tr>\n",
       "      <th>1</th>\n",
       "      <td>Falkland Islands (Islas Malvinas)</td>\n",
       "      <td>NaN</td>\n",
       "    </tr>\n",
       "    <tr>\n",
       "      <th>2</th>\n",
       "      <td>Cook Islands</td>\n",
       "      <td>NaN</td>\n",
       "    </tr>\n",
       "    <tr>\n",
       "      <th>3</th>\n",
       "      <td>Brunei</td>\n",
       "      <td>NaN</td>\n",
       "    </tr>\n",
       "    <tr>\n",
       "      <th>4</th>\n",
       "      <td>Palau</td>\n",
       "      <td>NaN</td>\n",
       "    </tr>\n",
       "  </tbody>\n",
       "</table>\n",
       "</div>"
      ],
      "text/plain": [
       "                             country  workout_2018_2023\n",
       "0                               Guam                NaN\n",
       "1  Falkland Islands (Islas Malvinas)                NaN\n",
       "2                       Cook Islands                NaN\n",
       "3                             Brunei                NaN\n",
       "4                              Palau                NaN"
      ]
     },
     "execution_count": 7,
     "metadata": {},
     "output_type": "execute_result"
    }
   ],
   "source": [
    "workout_geo_df = pd.read_csv(\"./data/workout_geo.csv\")\n",
    "workout_geo_df.head(5)"
   ]
  },
  {
   "cell_type": "code",
   "execution_count": 8,
   "id": "d2a5b0f3-def5-4304-bf83-0f759240d492",
   "metadata": {
    "executionCancelledAt": null,
    "executionTime": 56,
    "lastExecutedAt": 1737845885202,
    "lastExecutedByKernel": "1de447ee-a596-462b-9b2d-412b9b192946",
    "lastScheduledRunId": null,
    "lastSuccessfullyExecutedCode": "# Filter the dataframe for the specified countries\nfiltered_countries = workout_geo_df[workout_geo_df['country'].isin(['United States', 'Australia', 'Japan'])]\nprint(filtered_countries)\n\n# Find the country with the highest value in the workout_2018_2023 column\ntop_country = filtered_countries.loc[filtered_countries['workout_2018_2023'].idxmax(), 'country']\n\n# Print the result\ntop_country",
    "outputsMetadata": {
     "0": {
      "height": 101,
      "type": "stream"
     }
    }
   },
   "outputs": [
    {
     "name": "stdout",
     "output_type": "stream",
     "text": [
      "           country  workout_2018_2023\n",
      "5    United States              100.0\n",
      "18       Australia               77.0\n",
      "216          Japan                1.0\n"
     ]
    },
    {
     "data": {
      "text/plain": [
       "'United States'"
      ]
     },
     "execution_count": 8,
     "metadata": {},
     "output_type": "execute_result"
    }
   ],
   "source": [
    "# Filter the dataframe for the specified countries\n",
    "filtered_countries = workout_geo_df[workout_geo_df['country'].isin(['United States', 'Australia', 'Japan'])]\n",
    "print(filtered_countries)\n",
    "\n",
    "# Find the country with the highest value in the workout_2018_2023 column\n",
    "top_country = filtered_countries.loc[filtered_countries['workout_2018_2023'].idxmax(), 'country']\n",
    "\n",
    "# Print the result\n",
    "top_country"
   ]
  },
  {
   "cell_type": "markdown",
   "id": "c2149294-3a76-4073-a49c-ca8c41539b21",
   "metadata": {},
   "source": [
    "The project asks to expand the virtual home workouts offering to either the Philippines or Malaysia. Which of the two countries has the highest interest in home workouts? Identify the country and save it as home_workout_geo."
   ]
  },
  {
   "cell_type": "code",
   "execution_count": 9,
   "id": "700eeb83-e11c-4540-830d-c6f6a264513f",
   "metadata": {
    "executionCancelledAt": null,
    "executionTime": 56,
    "lastExecutedAt": 1737845885258,
    "lastExecutedByKernel": "1de447ee-a596-462b-9b2d-412b9b192946",
    "lastScheduledRunId": null,
    "lastSuccessfullyExecutedCode": "three_kw_geo_df = pd.read_csv(\"./data/three_keywords_geo.csv\")\npd.set_option('display.max_columns', 4)  # Ensure all columns are displayed\nfiltered_countries2 = three_kw_geo_df[three_kw_geo_df['Country'].isin(['Philippines','Malaysia'])]\nfiltered_countries2",
    "outputsMetadata": {
     "0": {
      "height": 50,
      "tableState": {
       "customFilter": {
        "const": {
         "type": "boolean",
         "valid": true,
         "value": true
        },
        "id": "3a62a749-cdbb-4964-b9d1-c7ad7b12b942",
        "nodeType": "const"
       },
       "quickFilterText": ""
      },
      "type": "dataFrame"
     }
    }
   },
   "outputs": [
    {
     "data": {
      "text/html": [
       "<div>\n",
       "<style scoped>\n",
       "    .dataframe tbody tr th:only-of-type {\n",
       "        vertical-align: middle;\n",
       "    }\n",
       "\n",
       "    .dataframe tbody tr th {\n",
       "        vertical-align: top;\n",
       "    }\n",
       "\n",
       "    .dataframe thead th {\n",
       "        text-align: right;\n",
       "    }\n",
       "</style>\n",
       "<table border=\"1\" class=\"dataframe\">\n",
       "  <thead>\n",
       "    <tr style=\"text-align: right;\">\n",
       "      <th></th>\n",
       "      <th>Country</th>\n",
       "      <th>home_workout_2018_2023</th>\n",
       "      <th>gym_workout_2018_2023</th>\n",
       "      <th>home_gym_2018_2023</th>\n",
       "    </tr>\n",
       "  </thead>\n",
       "  <tbody>\n",
       "    <tr>\n",
       "      <th>23</th>\n",
       "      <td>Philippines</td>\n",
       "      <td>52.0</td>\n",
       "      <td>38.0</td>\n",
       "      <td>10.0</td>\n",
       "    </tr>\n",
       "    <tr>\n",
       "      <th>61</th>\n",
       "      <td>Malaysia</td>\n",
       "      <td>47.0</td>\n",
       "      <td>38.0</td>\n",
       "      <td>15.0</td>\n",
       "    </tr>\n",
       "  </tbody>\n",
       "</table>\n",
       "</div>"
      ],
      "text/plain": [
       "        Country  home_workout_2018_2023  gym_workout_2018_2023  \\\n",
       "23  Philippines                    52.0                   38.0   \n",
       "61     Malaysia                    47.0                   38.0   \n",
       "\n",
       "    home_gym_2018_2023  \n",
       "23                10.0  \n",
       "61                15.0  "
      ]
     },
     "execution_count": 9,
     "metadata": {},
     "output_type": "execute_result"
    }
   ],
   "source": [
    "three_kw_geo_df = pd.read_csv(\"./data/three_keywords_geo.csv\")\n",
    "pd.set_option('display.max_columns', 4)  # Ensure all columns are displayed\n",
    "filtered_countries2 = three_kw_geo_df[three_kw_geo_df['Country'].isin(['Philippines','Malaysia'])]\n",
    "filtered_countries2"
   ]
  },
  {
   "cell_type": "code",
   "execution_count": 10,
   "id": "c26d60a9-7506-4f90-aedc-78509b4ff23b",
   "metadata": {
    "executionCancelledAt": null,
    "executionTime": 50,
    "lastExecutedAt": 1737845885308,
    "lastExecutedByKernel": "1de447ee-a596-462b-9b2d-412b9b192946",
    "lastScheduledRunId": null,
    "lastSuccessfullyExecutedCode": "home_workout_geo = \"Philippines\"\nprint(home_workout_geo)",
    "outputsMetadata": {
     "0": {
      "height": 38,
      "type": "stream"
     }
    }
   },
   "outputs": [
    {
     "name": "stdout",
     "output_type": "stream",
     "text": [
      "Philippines\n"
     ]
    }
   ],
   "source": [
    "home_workout_geo = \"Philippines\"\n",
    "print(home_workout_geo)"
   ]
  }
 ],
 "metadata": {
  "colab": {
   "name": "Welcome to DataCamp Workspaces.ipynb",
   "provenance": []
  },
  "editor": "DataLab",
  "kernelspec": {
   "display_name": "Python 3 (ipykernel)",
   "language": "python",
   "name": "python3"
  },
  "language_info": {
   "codemirror_mode": {
    "name": "ipython",
    "version": 3
   },
   "file_extension": ".py",
   "mimetype": "text/x-python",
   "name": "python",
   "nbconvert_exporter": "python",
   "pygments_lexer": "ipython3",
   "version": "3.12.3"
  }
 },
 "nbformat": 4,
 "nbformat_minor": 5
}
